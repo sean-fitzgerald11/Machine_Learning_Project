{
 "cells": [
  {
   "cell_type": "code",
   "execution_count": 54,
   "id": "74978abe",
   "metadata": {},
   "outputs": [],
   "source": [
    "import requests\n",
    "import pandas as pd\n",
    "import numpy as np\n",
    "from io import StringIO\n",
    "from datetime import datetime, timedelta"
   ]
  },
  {
   "cell_type": "code",
   "execution_count": 43,
   "id": "e37aca33",
   "metadata": {},
   "outputs": [],
   "source": [
    "day_var = datetime.strptime('0101', '%m%d')\n",
    "days = []\n",
    "end_date = datetime.strptime('1231','%m%d')\n",
    "while day_var <= end_date:\n",
    "    hold = datetime.strftime(day_var,'%m%d')\n",
    "    days.append(hold)\n",
    "    day_var = day_var + timedelta(days=1)"
   ]
  },
  {
   "cell_type": "code",
   "execution_count": null,
   "id": "13a6b4d0",
   "metadata": {},
   "outputs": [],
   "source": [
    "data_all = pd.DataFrame(columns=['Date', 'Parameters', 'Measurement','AQS_ID'])\n",
    "\n",
    "AQS_to_Division = pd.read_csv('AQS_to_Climate_Division.csv')\n",
    "AQS_to_Division['AQS_ID'] = AQS_to_Division['AQS_ID'].astype(str)\n",
    "\n",
    "years = ['2019','2020','2021','2022','2023']\n",
    "\n",
    "for year in years:\n",
    "    for day in days:\n",
    "        url = f'https://files.airnowtech.org/airnow/{year}/{year}{day}/daily_data_v2.dat'\n",
    "        try:        \n",
    "            response = requests.get(url)\n",
    "            response.raise_for_status()\n",
    "            air_data = pd.read_csv(StringIO(response.text),\n",
    "                                   sep='|',\n",
    "                                   header=None,\n",
    "                                   names=['Date','Parameters','Measurement','AQS_ID'],\n",
    "                                   usecols=[0,3,5,12])\n",
    "            air_data = air_data[air_data['AQS_ID'].isin(AQS_to_Division['AQS_ID'])]\n",
    "            data_all = pd.concat([data_all, air_data], ignore_index=True)\n",
    "            print(f'File {year}{day} successful')\n",
    "        except requests.exceptions.HTTPError as e:\n",
    "            print(f'Error on {year}{day}; Status Code: {e.response.status_code}; Reason: {e.response.reason}')\n",
    "\n",
    "data_all.to_csv('air_data_all.csv', index=False, encoding='utf-8')"
   ]
  },
  {
   "cell_type": "code",
   "execution_count": null,
   "id": "7b19b44e",
   "metadata": {},
   "outputs": [
    {
     "name": "stderr",
     "output_type": "stream",
     "text": [
      "C:\\Users\\seanf\\AppData\\Local\\Temp\\ipykernel_25352\\517734350.py:1: UserWarning: Could not infer format, so each element will be parsed individually, falling back to `dateutil`. To ensure parsing is consistent and as-expected, please specify a format.\n",
      "  data_all['Date'] = pd.to_datetime(data_all['Date'])\n"
     ]
    }
   ],
   "source": [
    "data_all['Date'] = pd.to_datetime(data_all['Date'])\n",
    "data_all = data_all.merge(AQS_to_Division, on='AQS_ID', how='left')\n",
    "\n",
    "data_all = data_all.pivot_table(index=['Date', 'Division'], \n",
    "                                columns='Parameters', \n",
    "                                values='Measurement',\n",
    "                                aggfunc='mean')\n",
    "data_all.columns.name=None\n",
    "data_all = data_all.round(1)\n",
    "data_all = data_all.reset_index()\n",
    "data_all = data_all.sort_values(by=['Division','Date']).reset_index(drop=True)\n",
    "\n",
    "data_all = data_all.drop('OZONE-1HR',axis=1)\n",
    "data_all.rename(columns={'CO-8hr': 'CO', 'OZONE-8HR': 'OZONE', 'PM10-24hr':'PM10',\n",
    "                         'PM2.5-24hr':'PM2.5','SO2-24HR':'SO2'}, inplace=True)\n",
    "data_all['NO2'] = np.nan\n",
    "data_all = data_all[['Date', 'Division', 'CO', 'NO2', 'OZONE', 'PM10', 'PM2.5', 'SO2']]"
   ]
  },
  {
   "cell_type": "code",
   "execution_count": null,
   "id": "e5c660ec",
   "metadata": {},
   "outputs": [],
   "source": [
    "airnow_api_final = pd.read_csv('airnow_api_final.csv')\n",
    "airnow_data_final = pd.concat([data_all, airnow_api_final], ignore_index=True)\n",
    "\n",
    "airnow_data_final['Date'] = pd.to_datetime(airnow_data_final['Date'])\n",
    "airnow_data_final['Date_new'] = airnow_data_final['Date'].dt.date\n",
    "airnow_data_final = airnow_data_final.drop('Date',axis=1)\n",
    "column_move = airnow_data_final.pop('Date_new')\n",
    "airnow_data_final.insert(0,'Date',column_move)"
   ]
  },
  {
   "cell_type": "code",
   "execution_count": 65,
   "id": "50f212a6",
   "metadata": {},
   "outputs": [],
   "source": [
    "airnow_data_final.to_csv('AirNow_Data_Final.csv', index=False, encoding='utf-8')"
   ]
  }
 ],
 "metadata": {
  "kernelspec": {
   "display_name": "base",
   "language": "python",
   "name": "python3"
  },
  "language_info": {
   "codemirror_mode": {
    "name": "ipython",
    "version": 3
   },
   "file_extension": ".py",
   "mimetype": "text/x-python",
   "name": "python",
   "nbconvert_exporter": "python",
   "pygments_lexer": "ipython3",
   "version": "3.12.3"
  }
 },
 "nbformat": 4,
 "nbformat_minor": 5
}
