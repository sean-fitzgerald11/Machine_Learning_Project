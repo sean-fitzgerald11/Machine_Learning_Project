{
 "cells": [
  {
   "cell_type": "code",
   "execution_count": 5,
   "id": "af8f202e",
   "metadata": {},
   "outputs": [],
   "source": [
    "import pandas as pd\n",
    "import numpy as np"
   ]
  },
  {
   "cell_type": "code",
   "execution_count": 2,
   "id": "5b6b76ff",
   "metadata": {},
   "outputs": [],
   "source": [
    "filepath = ['climdiv-cddcdv-v1.0.0-20250806',\n",
    "            'climdiv-hddcdv-v1.0.0-20250806',\n",
    "            'climdiv-pcpndv-v1.0.0-20250806',\n",
    "            'climdiv-pdsidv-v1.0.0-20250806',\n",
    "            'climdiv-phdidv-v1.0.0-20250806',\n",
    "            'climdiv-pmdidv-v1.0.0-20250806',\n",
    "            'climdiv-sp01dv-v1.0.0-20250806',\n",
    "            'climdiv-sp02dv-v1.0.0-20250806',\n",
    "            'climdiv-sp03dv-v1.0.0-20250806',\n",
    "            'climdiv-sp06dv-v1.0.0-20250806',\n",
    "            'climdiv-sp09dv-v1.0.0-20250806',\n",
    "            'climdiv-sp12dv-v1.0.0-20250806',\n",
    "            'climdiv-sp24dv-v1.0.0-20250806',\n",
    "            'climdiv-tmaxdv-v1.0.0-20250806',\n",
    "            'climdiv-tmindv-v1.0.0-20250806',\n",
    "            'climdiv-tmpcdv-v1.0.0-20250806',\n",
    "            'climdiv-zndxdv-v1.0.0-20250806']\n",
    "\n",
    "value_names = ['cddc','hddc','pcpn','pdsi','phdi','pmdi','sp01','sp02','sp03','sp06','sp09','sp12','sp24','tmax','tmin','tmpc','zndx']\n",
    "\n",
    "colspecs = [(0,2), (2,4),(4,6),(6,10)] + [(10 + i*7, 17 + i*7) for i in range(12)]\n",
    "colnames = ['State-Code', 'Division','Element-Code','Year'] + [f'Month_{i+1}' for i in range(12)]\n",
    "\n",
    "data_dict = {}\n",
    "\n",
    "for path, value_name in zip(filepath, value_names):\n",
    "    df = pd.read_fwf(path, colspecs=colspecs, names=colnames, \n",
    "                 converters = {'State-Code':lambda x: str(x).zfill(2),\n",
    "                               'Division':lambda x: str(x).zfill(2),\n",
    "                               'Element-Code':lambda x: str(x).zfill(2)})\n",
    "    df_co = df[df['State-Code'] == \"05\"]\n",
    "\n",
    "    df_co_long = df_co.melt(id_vars=['State-Code','Division','Element-Code','Year'],\n",
    "                            value_vars=[f'Month_{i+1}' for i in range(12)],\n",
    "                            var_name='Month',\n",
    "                            value_name= value_name)\n",
    "    \n",
    "    data_dict[path]=df_co_long"
   ]
  },
  {
   "cell_type": "code",
   "execution_count": null,
   "id": "c78d192f",
   "metadata": {},
   "outputs": [],
   "source": [
    "data_merged = data_dict['climdiv-cddcdv-v1.0.0-20250806']\n",
    "\n",
    "for path, vname in zip(filepath[1:],value_names[1:]):\n",
    "    data_merged = pd.merge(data_merged,data_dict[path][['State-Code','Division','Year','Month',vname]],\n",
    "                           on=['State-Code','Division','Year','Month'],how='left' )\n",
    "\n",
    "data_merged = data_merged.drop('Element-Code',axis=1)\n",
    "\n",
    "data_merged['Month'] = data_merged['Month'].str.extract(r'Month_(\\d+)').astype(int)\n",
    "data_merged['Day'] = 1\n",
    "data_merged['Date'] = pd.to_datetime(data_merged[['Year','Month','Day']])\n",
    "data_merged = data_merged.drop(columns=['Year','Month','Day'])\n",
    "data_merged = data_merged.sort_values(by=['Division','Date']).reset_index(drop=True)\n",
    "\n",
    "column_move = data_merged.pop('Date')\n",
    "data_merged.insert(2,'Date',column_move)\n",
    "\n",
    "data_merged.replace([-99.99, -99.90, -9.99, -9999], np.nan, inplace=True)"
   ]
  },
  {
   "cell_type": "code",
   "execution_count": 8,
   "id": "d7999a86",
   "metadata": {},
   "outputs": [],
   "source": [
    "data_merged.to_csv('NOAA_Data_Final.csv',index=False, encoding='utf-8')"
   ]
  }
 ],
 "metadata": {
  "kernelspec": {
   "display_name": "base",
   "language": "python",
   "name": "python3"
  },
  "language_info": {
   "codemirror_mode": {
    "name": "ipython",
    "version": 3
   },
   "file_extension": ".py",
   "mimetype": "text/x-python",
   "name": "python",
   "nbconvert_exporter": "python",
   "pygments_lexer": "ipython3",
   "version": "3.12.3"
  }
 },
 "nbformat": 4,
 "nbformat_minor": 5
}
