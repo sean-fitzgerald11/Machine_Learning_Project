{
 "cells": [
  {
   "cell_type": "code",
   "execution_count": 2,
   "id": "941047b2",
   "metadata": {},
   "outputs": [],
   "source": [
    "import requests\n",
    "import pandas as pd\n",
    "import numpy as np\n",
    "from datetime import datetime, timedelta"
   ]
  },
  {
   "cell_type": "code",
   "execution_count": 3,
   "id": "ec0d2f7e",
   "metadata": {},
   "outputs": [
    {
     "name": "stderr",
     "output_type": "stream",
     "text": [
      "C:\\Users\\seanf\\AppData\\Local\\Temp\\ipykernel_18620\\3342498814.py:13: FutureWarning: The behavior of DataFrame concatenation with empty or all-NA entries is deprecated. In a future version, this will no longer exclude empty or all-NA columns when determining the result dtypes. To retain the old behavior, exclude the relevant entries before the concat operation.\n",
      "  aqi_agg = pd.concat([aqi_agg, aqi_data], ignore_index=True)\n"
     ]
    }
   ],
   "source": [
    "aqi_agg = pd.DataFrame(columns=['Date', 'Parameters', 'Measurement','AQS_ID'])\n",
    "\n",
    "for j in range(1,72):\n",
    "    file_name = f'airnow_data_{j}.csv'\n",
    "    aqi_data = pd.read_csv(file_name,header=None,\n",
    "                           names=['Datetime','Parameters','Measurement','AQS_ID'],\n",
    "                           usecols=[2,3,4,11])\n",
    "    aqi_data['Datetime'] = pd.to_datetime(aqi_data['Datetime'])\n",
    "    aqi_data['Date'] = aqi_data['Datetime'].dt.date\n",
    "    aqi_data = aqi_data.drop('Datetime',axis=1)\n",
    "    column_move = aqi_data.pop('Date')\n",
    "    aqi_data.insert(0,'Date',column_move)\n",
    "    aqi_agg = pd.concat([aqi_agg, aqi_data], ignore_index=True)\n",
    "\n",
    "AQS_to_Division = pd.read_csv('AQS_to_Climate_Division.csv')\n",
    "aqi_agg = aqi_agg.merge(AQS_to_Division, on='AQS_ID', how='left')\n",
    "\n",
    "    # AQS_Missing_Division = set()\n",
    "    # missing = aqi_data[aqi_data['Division'].isna()]['AQS_ID'].unique()\n",
    "    # print(j)\n",
    "    # print(missing)\n",
    "    # if len(missing)>0:\n",
    "        # AQS_Missing_Division.add(missing[0])\n",
    "    # print(AQS_Missing_Division)"
   ]
  },
  {
   "cell_type": "code",
   "execution_count": null,
   "id": "3cb60d93",
   "metadata": {},
   "outputs": [],
   "source": [
    "aqi_agg = aqi_agg.pivot_table(index=['Date', 'Division'], \n",
    "                                columns='Parameters', \n",
    "                                values='Measurement',\n",
    "                                aggfunc='mean')\n",
    "aqi_agg.columns.name=None\n",
    "aqi_agg = aqi_agg.round(1)\n",
    "aqi_agg = aqi_agg.reset_index()\n",
    "aqi_agg = aqi_agg.sort_values(by=['Division','Date']).reset_index(drop=True)\n",
    "\n",
    "aqi_agg.to_csv('airnow_api_final.csv', index=False, encoding='utf-8')"
   ]
  }
 ],
 "metadata": {
  "kernelspec": {
   "display_name": "base",
   "language": "python",
   "name": "python3"
  },
  "language_info": {
   "codemirror_mode": {
    "name": "ipython",
    "version": 3
   },
   "file_extension": ".py",
   "mimetype": "text/x-python",
   "name": "python",
   "nbconvert_exporter": "python",
   "pygments_lexer": "ipython3",
   "version": "3.12.3"
  }
 },
 "nbformat": 4,
 "nbformat_minor": 5
}
